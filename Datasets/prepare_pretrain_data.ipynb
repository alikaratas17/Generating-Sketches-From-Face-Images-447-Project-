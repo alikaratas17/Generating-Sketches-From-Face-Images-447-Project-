{
 "cells": [
  {
   "cell_type": "code",
   "execution_count": 1,
   "id": "166f79e6",
   "metadata": {},
   "outputs": [],
   "source": [
    "import os"
   ]
  },
  {
   "cell_type": "code",
   "execution_count": 7,
   "id": "b7d001b7",
   "metadata": {},
   "outputs": [],
   "source": [
    "sketch_files = os.listdir(\"../informative-drawings/results/anime_style\")"
   ]
  },
  {
   "cell_type": "code",
   "execution_count": 8,
   "id": "da9a0b33",
   "metadata": {},
   "outputs": [
    {
     "name": "stderr",
     "output_type": "stream",
     "text": [
      "C:\\Users\\alika\\anaconda3\\envs\\pytorch_env\\lib\\site-packages\\tqdm\\auto.py:22: TqdmWarning: IProgress not found. Please update jupyter and ipywidgets. See https://ipywidgets.readthedocs.io/en/stable/user_install.html\n",
      "  from .autonotebook import tqdm as notebook_tqdm\n"
     ]
    }
   ],
   "source": [
    "import numpy as np\n",
    "import pickle as pkl\n",
    "import torch\n",
    "import cv2"
   ]
  },
  {
   "cell_type": "code",
   "execution_count": 35,
   "id": "d041943c",
   "metadata": {},
   "outputs": [],
   "source": [
    "sketches = []"
   ]
  },
  {
   "cell_type": "code",
   "execution_count": 36,
   "id": "9af6b70f",
   "metadata": {},
   "outputs": [],
   "source": [
    "for x in sketch_files:\n",
    "        img = cv2.imread(\"../informative-drawings/results/anime_style/\"+x)\n",
    "        sketches.append(torch.from_numpy(img[:,:,0]).unsqueeze(0).unsqueeze(0))"
   ]
  },
  {
   "cell_type": "code",
   "execution_count": 37,
   "id": "f587d6e8",
   "metadata": {},
   "outputs": [],
   "source": [
    "sketches_np = torch.cat(sketches,dim=0).numpy()"
   ]
  },
  {
   "cell_type": "code",
   "execution_count": 38,
   "id": "d4682ec4",
   "metadata": {},
   "outputs": [
    {
     "data": {
      "text/plain": [
       "(5000, 1, 256, 256)"
      ]
     },
     "execution_count": 38,
     "metadata": {},
     "output_type": "execute_result"
    }
   ],
   "source": [
    "sketches_np.shape"
   ]
  },
  {
   "cell_type": "code",
   "execution_count": 40,
   "id": "4ddadafc",
   "metadata": {},
   "outputs": [
    {
     "data": {
      "text/plain": [
       "dtype('uint8')"
      ]
     },
     "execution_count": 40,
     "metadata": {},
     "output_type": "execute_result"
    }
   ],
   "source": [
    "sketches_np.dtype"
   ]
  },
  {
   "cell_type": "code",
   "execution_count": 41,
   "id": "2bc222c1",
   "metadata": {},
   "outputs": [],
   "source": [
    "with open(\"./sketches.pickle\",\"wb\") as f:\n",
    "    pkl.dump(sketches_np,f)"
   ]
  },
  {
   "cell_type": "code",
   "execution_count": 53,
   "id": "9be21855",
   "metadata": {},
   "outputs": [],
   "source": [
    "images_path =  \"D:\\\\Datasets\\\\FFHQ\\\\for_pretraining\""
   ]
  },
  {
   "cell_type": "code",
   "execution_count": 54,
   "id": "d6161208",
   "metadata": {},
   "outputs": [],
   "source": [
    "image_files = os.listdir(images_path)"
   ]
  },
  {
   "cell_type": "code",
   "execution_count": 55,
   "id": "4cdd6116",
   "metadata": {},
   "outputs": [],
   "source": [
    "images = []"
   ]
  },
  {
   "cell_type": "code",
   "execution_count": 56,
   "id": "de4ad373",
   "metadata": {},
   "outputs": [],
   "source": [
    "for image in image_files:\n",
    "    img = cv2.imread(images_path + \"\\\\\" + image)\n",
    "    img = cv2.resize(img,(256,256))\n",
    "    images.append(torch.from_numpy(np.moveaxis(img,2,0)).unsqueeze(0))"
   ]
  },
  {
   "cell_type": "code",
   "execution_count": 57,
   "id": "f5a28083",
   "metadata": {},
   "outputs": [],
   "source": [
    "images_np = torch.cat(images,dim=0).numpy()"
   ]
  },
  {
   "cell_type": "code",
   "execution_count": 58,
   "id": "d6c4c616",
   "metadata": {},
   "outputs": [],
   "source": [
    "with open(\"./images.pickle\",\"wb\") as f:\n",
    "    pkl.dump(images_np,f)"
   ]
  },
  {
   "cell_type": "code",
   "execution_count": 59,
   "id": "ea90dfe9",
   "metadata": {},
   "outputs": [
    {
     "data": {
      "text/plain": [
       "(10000, 3, 256, 256)"
      ]
     },
     "execution_count": 59,
     "metadata": {},
     "output_type": "execute_result"
    }
   ],
   "source": [
    "images_np.shape"
   ]
  },
  {
   "cell_type": "code",
   "execution_count": 60,
   "id": "4871b92e",
   "metadata": {},
   "outputs": [
    {
     "data": {
      "text/plain": [
       "dtype('uint8')"
      ]
     },
     "execution_count": 60,
     "metadata": {},
     "output_type": "execute_result"
    }
   ],
   "source": [
    "images_np.dtype"
   ]
  },
  {
   "cell_type": "code",
   "execution_count": null,
   "id": "8c362489",
   "metadata": {},
   "outputs": [],
   "source": []
  },
  {
   "cell_type": "code",
   "execution_count": 10,
   "id": "af3f40fa",
   "metadata": {},
   "outputs": [],
   "source": [
    "# To load from pickle\n",
    "with open(\"./pikle_test\", \"rb\") as f:\n",
    "    b = pkl.load(f)"
   ]
  }
 ],
 "metadata": {
  "kernelspec": {
   "display_name": "Python 3 (ipykernel)",
   "language": "python",
   "name": "python3"
  },
  "language_info": {
   "codemirror_mode": {
    "name": "ipython",
    "version": 3
   },
   "file_extension": ".py",
   "mimetype": "text/x-python",
   "name": "python",
   "nbconvert_exporter": "python",
   "pygments_lexer": "ipython3",
   "version": "3.9.7"
  }
 },
 "nbformat": 4,
 "nbformat_minor": 5
}
