{
  "nbformat": 4,
  "nbformat_minor": 0,
  "metadata": {
    "colab": {
      "name": "Scores.ipynb",
      "provenance": [],
      "collapsed_sections": []
    },
    "kernelspec": {
      "name": "python3",
      "display_name": "Python 3"
    },
    "language_info": {
      "name": "python"
    },
    "accelerator": "GPU",
    "widgets": {
      "application/vnd.jupyter.widget-state+json": {
        "f7417f247e15419d8c8b93e00db0e85f": {
          "model_module": "@jupyter-widgets/controls",
          "model_name": "HBoxModel",
          "model_module_version": "1.5.0",
          "state": {
            "_dom_classes": [],
            "_model_module": "@jupyter-widgets/controls",
            "_model_module_version": "1.5.0",
            "_model_name": "HBoxModel",
            "_view_count": null,
            "_view_module": "@jupyter-widgets/controls",
            "_view_module_version": "1.5.0",
            "_view_name": "HBoxView",
            "box_style": "",
            "children": [
              "IPY_MODEL_fb106ffe5edc4cf097b492dd9729493e",
              "IPY_MODEL_35501df9403e4c57852cee216a4bae15",
              "IPY_MODEL_36e5a2a7647f4023a0b99ca4196d7428"
            ],
            "layout": "IPY_MODEL_c9971bcb30b04b8a81dd186a9f7ca6ae"
          }
        },
        "fb106ffe5edc4cf097b492dd9729493e": {
          "model_module": "@jupyter-widgets/controls",
          "model_name": "HTMLModel",
          "model_module_version": "1.5.0",
          "state": {
            "_dom_classes": [],
            "_model_module": "@jupyter-widgets/controls",
            "_model_module_version": "1.5.0",
            "_model_name": "HTMLModel",
            "_view_count": null,
            "_view_module": "@jupyter-widgets/controls",
            "_view_module_version": "1.5.0",
            "_view_name": "HTMLView",
            "description": "",
            "description_tooltip": null,
            "layout": "IPY_MODEL_78fd8bb75c7c4ccfa33b26f776e83921",
            "placeholder": "​",
            "style": "IPY_MODEL_5b09216e74974531b0e2f8928979a88c",
            "value": "100%"
          }
        },
        "35501df9403e4c57852cee216a4bae15": {
          "model_module": "@jupyter-widgets/controls",
          "model_name": "FloatProgressModel",
          "model_module_version": "1.5.0",
          "state": {
            "_dom_classes": [],
            "_model_module": "@jupyter-widgets/controls",
            "_model_module_version": "1.5.0",
            "_model_name": "FloatProgressModel",
            "_view_count": null,
            "_view_module": "@jupyter-widgets/controls",
            "_view_module_version": "1.5.0",
            "_view_name": "ProgressView",
            "bar_style": "success",
            "description": "",
            "description_tooltip": null,
            "layout": "IPY_MODEL_4a2d744dd3444c1390ff9e0eef6019f4",
            "max": 108949747,
            "min": 0,
            "orientation": "horizontal",
            "style": "IPY_MODEL_eb8b08c932c74def882846b014335faa",
            "value": 108949747
          }
        },
        "36e5a2a7647f4023a0b99ca4196d7428": {
          "model_module": "@jupyter-widgets/controls",
          "model_name": "HTMLModel",
          "model_module_version": "1.5.0",
          "state": {
            "_dom_classes": [],
            "_model_module": "@jupyter-widgets/controls",
            "_model_module_version": "1.5.0",
            "_model_name": "HTMLModel",
            "_view_count": null,
            "_view_module": "@jupyter-widgets/controls",
            "_view_module_version": "1.5.0",
            "_view_name": "HTMLView",
            "description": "",
            "description_tooltip": null,
            "layout": "IPY_MODEL_b8005ad4b175468f9315de73a0908a43",
            "placeholder": "​",
            "style": "IPY_MODEL_5c234d10a4b44f02bc7258db2457eec1",
            "value": " 104M/104M [00:03&lt;00:00, 29.2MB/s]"
          }
        },
        "c9971bcb30b04b8a81dd186a9f7ca6ae": {
          "model_module": "@jupyter-widgets/base",
          "model_name": "LayoutModel",
          "model_module_version": "1.2.0",
          "state": {
            "_model_module": "@jupyter-widgets/base",
            "_model_module_version": "1.2.0",
            "_model_name": "LayoutModel",
            "_view_count": null,
            "_view_module": "@jupyter-widgets/base",
            "_view_module_version": "1.2.0",
            "_view_name": "LayoutView",
            "align_content": null,
            "align_items": null,
            "align_self": null,
            "border": null,
            "bottom": null,
            "display": null,
            "flex": null,
            "flex_flow": null,
            "grid_area": null,
            "grid_auto_columns": null,
            "grid_auto_flow": null,
            "grid_auto_rows": null,
            "grid_column": null,
            "grid_gap": null,
            "grid_row": null,
            "grid_template_areas": null,
            "grid_template_columns": null,
            "grid_template_rows": null,
            "height": null,
            "justify_content": null,
            "justify_items": null,
            "left": null,
            "margin": null,
            "max_height": null,
            "max_width": null,
            "min_height": null,
            "min_width": null,
            "object_fit": null,
            "object_position": null,
            "order": null,
            "overflow": null,
            "overflow_x": null,
            "overflow_y": null,
            "padding": null,
            "right": null,
            "top": null,
            "visibility": null,
            "width": null
          }
        },
        "78fd8bb75c7c4ccfa33b26f776e83921": {
          "model_module": "@jupyter-widgets/base",
          "model_name": "LayoutModel",
          "model_module_version": "1.2.0",
          "state": {
            "_model_module": "@jupyter-widgets/base",
            "_model_module_version": "1.2.0",
            "_model_name": "LayoutModel",
            "_view_count": null,
            "_view_module": "@jupyter-widgets/base",
            "_view_module_version": "1.2.0",
            "_view_name": "LayoutView",
            "align_content": null,
            "align_items": null,
            "align_self": null,
            "border": null,
            "bottom": null,
            "display": null,
            "flex": null,
            "flex_flow": null,
            "grid_area": null,
            "grid_auto_columns": null,
            "grid_auto_flow": null,
            "grid_auto_rows": null,
            "grid_column": null,
            "grid_gap": null,
            "grid_row": null,
            "grid_template_areas": null,
            "grid_template_columns": null,
            "grid_template_rows": null,
            "height": null,
            "justify_content": null,
            "justify_items": null,
            "left": null,
            "margin": null,
            "max_height": null,
            "max_width": null,
            "min_height": null,
            "min_width": null,
            "object_fit": null,
            "object_position": null,
            "order": null,
            "overflow": null,
            "overflow_x": null,
            "overflow_y": null,
            "padding": null,
            "right": null,
            "top": null,
            "visibility": null,
            "width": null
          }
        },
        "5b09216e74974531b0e2f8928979a88c": {
          "model_module": "@jupyter-widgets/controls",
          "model_name": "DescriptionStyleModel",
          "model_module_version": "1.5.0",
          "state": {
            "_model_module": "@jupyter-widgets/controls",
            "_model_module_version": "1.5.0",
            "_model_name": "DescriptionStyleModel",
            "_view_count": null,
            "_view_module": "@jupyter-widgets/base",
            "_view_module_version": "1.2.0",
            "_view_name": "StyleView",
            "description_width": ""
          }
        },
        "4a2d744dd3444c1390ff9e0eef6019f4": {
          "model_module": "@jupyter-widgets/base",
          "model_name": "LayoutModel",
          "model_module_version": "1.2.0",
          "state": {
            "_model_module": "@jupyter-widgets/base",
            "_model_module_version": "1.2.0",
            "_model_name": "LayoutModel",
            "_view_count": null,
            "_view_module": "@jupyter-widgets/base",
            "_view_module_version": "1.2.0",
            "_view_name": "LayoutView",
            "align_content": null,
            "align_items": null,
            "align_self": null,
            "border": null,
            "bottom": null,
            "display": null,
            "flex": null,
            "flex_flow": null,
            "grid_area": null,
            "grid_auto_columns": null,
            "grid_auto_flow": null,
            "grid_auto_rows": null,
            "grid_column": null,
            "grid_gap": null,
            "grid_row": null,
            "grid_template_areas": null,
            "grid_template_columns": null,
            "grid_template_rows": null,
            "height": null,
            "justify_content": null,
            "justify_items": null,
            "left": null,
            "margin": null,
            "max_height": null,
            "max_width": null,
            "min_height": null,
            "min_width": null,
            "object_fit": null,
            "object_position": null,
            "order": null,
            "overflow": null,
            "overflow_x": null,
            "overflow_y": null,
            "padding": null,
            "right": null,
            "top": null,
            "visibility": null,
            "width": null
          }
        },
        "eb8b08c932c74def882846b014335faa": {
          "model_module": "@jupyter-widgets/controls",
          "model_name": "ProgressStyleModel",
          "model_module_version": "1.5.0",
          "state": {
            "_model_module": "@jupyter-widgets/controls",
            "_model_module_version": "1.5.0",
            "_model_name": "ProgressStyleModel",
            "_view_count": null,
            "_view_module": "@jupyter-widgets/base",
            "_view_module_version": "1.2.0",
            "_view_name": "StyleView",
            "bar_color": null,
            "description_width": ""
          }
        },
        "b8005ad4b175468f9315de73a0908a43": {
          "model_module": "@jupyter-widgets/base",
          "model_name": "LayoutModel",
          "model_module_version": "1.2.0",
          "state": {
            "_model_module": "@jupyter-widgets/base",
            "_model_module_version": "1.2.0",
            "_model_name": "LayoutModel",
            "_view_count": null,
            "_view_module": "@jupyter-widgets/base",
            "_view_module_version": "1.2.0",
            "_view_name": "LayoutView",
            "align_content": null,
            "align_items": null,
            "align_self": null,
            "border": null,
            "bottom": null,
            "display": null,
            "flex": null,
            "flex_flow": null,
            "grid_area": null,
            "grid_auto_columns": null,
            "grid_auto_flow": null,
            "grid_auto_rows": null,
            "grid_column": null,
            "grid_gap": null,
            "grid_row": null,
            "grid_template_areas": null,
            "grid_template_columns": null,
            "grid_template_rows": null,
            "height": null,
            "justify_content": null,
            "justify_items": null,
            "left": null,
            "margin": null,
            "max_height": null,
            "max_width": null,
            "min_height": null,
            "min_width": null,
            "object_fit": null,
            "object_position": null,
            "order": null,
            "overflow": null,
            "overflow_x": null,
            "overflow_y": null,
            "padding": null,
            "right": null,
            "top": null,
            "visibility": null,
            "width": null
          }
        },
        "5c234d10a4b44f02bc7258db2457eec1": {
          "model_module": "@jupyter-widgets/controls",
          "model_name": "DescriptionStyleModel",
          "model_module_version": "1.5.0",
          "state": {
            "_model_module": "@jupyter-widgets/controls",
            "_model_module_version": "1.5.0",
            "_model_name": "DescriptionStyleModel",
            "_view_count": null,
            "_view_module": "@jupyter-widgets/base",
            "_view_module_version": "1.2.0",
            "_view_name": "StyleView",
            "description_width": ""
          }
        }
      }
    }
  },
  "cells": [
    {
      "cell_type": "code",
      "execution_count": null,
      "metadata": {
        "id": "kFovQPo2XcTT"
      },
      "outputs": [],
      "source": [
        "import torch\n",
        "import torch.optim as optim\n",
        "import torch.utils.data as data\n",
        "import torch.nn as nn\n",
        "import torch.nn.functional as F\n",
        "import numpy as np\n",
        "from tqdm import trange, tqdm_notebook\n",
        "import copy\n",
        "from torch.distributions.uniform import Uniform\n",
        "from torch.distributions.normal import Normal\n",
        "import matplotlib.pyplot as plt\n",
        "from scipy.stats import norm\n",
        "from scipy.linalg import sqrtm\n",
        "from torchvision import models\n",
        "from torchvision import transforms\n",
        "from PIL import Image"
      ]
    },
    {
      "cell_type": "code",
      "source": [
        "class I(nn.Module):\n",
        "  def __init__(self):\n",
        "    super().__init__()\n",
        "    self.model = torch.hub.load('pytorch/vision:v0.10.0', 'inception_v3', pretrained=True)\n",
        "    self.model.eval()\n",
        "\n",
        "    #self.model = timm.create_model('inception_v3', pretrained=True, features_only=True)\n",
        "\n",
        "  def forward(self, x):\n",
        "    #https://discuss.pytorch.org/t/extract-the-2048-vector-of-a-fine-tuned-inception-v3-on-test-set/152510/4 \n",
        "    activation = {}\n",
        "    def get_activation(name):\n",
        "        def hook(model, input, output):\n",
        "            activation[name] = output.detach()\n",
        "        return hook\n",
        "\n",
        "    self.model.avgpool.register_forward_hook(get_activation(\"avgpool\"))\n",
        "\n",
        "    out = self.model(x)\n",
        "\n",
        "    return activation['avgpool'].squeeze(3).squeeze(2)\n"
      ],
      "metadata": {
        "id": "XznGBXEhXsez"
      },
      "execution_count": null,
      "outputs": []
    },
    {
      "cell_type": "code",
      "source": [
        "class FID(nn.Module):\n",
        "  def __init__(self):\n",
        "    super().__init__()\n",
        "    self.inception = I()\n",
        "  \n",
        "  def forward(self, x, y):\n",
        "    with torch.no_grad():\n",
        "      features_x = self.inception(x).detach().cpu().numpy()\n",
        "      features_y = self.inception(y).detach().cpu().numpy()\n",
        "      #print(features_x)\n",
        "      #print(features_y)\n",
        "      mu_x = features_x.mean(axis=0)\n",
        "      mu_y = features_y.mean(axis=0)\n",
        "      mu_part = np.dot(mu_x - mu_y, mu_x - mu_y)\n",
        "      #print(mu_part)\n",
        "      covariance_x = np.cov(features_x, rowvar=False)\n",
        "      covariance_y = np.cov(features_y, rowvar=False)\n",
        "      #print(covariance_x)\n",
        "      #print(covariance_y)\n",
        "      #print(np.multiply(covariance_x, covariance_y).shape)\n",
        "      trace = covariance_x + covariance_y - 2 * sqrtm(np.dot(covariance_x, covariance_y))\n",
        "      trace = np.trace(trace.real)\n",
        "      #print(trace)\n",
        "      fid = mu_part - trace\n",
        "      #print(f\"real fid: {fid}\")\n",
        "      #return features_x, features_y\n",
        "      return fid\n"
      ],
      "metadata": {
        "id": "9xbWsUkxY_7j"
      },
      "execution_count": null,
      "outputs": []
    },
    {
      "cell_type": "code",
      "source": [
        "def fid_experiment():\n",
        "  toTensorTransform = transforms.ToTensor()\n",
        "  sample_number_1 = 70 #TODO correct this\n",
        "  sample_number_2 = 70 #TODO correct this\n",
        "\n",
        "  inputs1 = torch.zeros([sample_number_1, 3, 256, 256]) #TODO fix size\n",
        "  for i in range(sample_number_1):\n",
        "    #img = Image.open(\"generated_sketch_\" + str(i) + \".jpg\")\n",
        "    img = Image.open(\"exp13/\"+str(i) + \".jpg\")\n",
        "    tensor = toTensorTransform(img)\n",
        "    tensor = tensor.unsqueeze(0)\n",
        "    inputs1[i] = tensor\n",
        "  inputs1 = inputs1.cuda()\n",
        "\n",
        "  inputs2 = torch.zeros([sample_number_2, 3, 256, 256]) #TODO fix size\n",
        "  for i in range(sample_number_2):\n",
        "    img = Image.open(\"truth_sketch_\" + str(i) + \".jpg\")\n",
        "    tensor = toTensorTransform(img)\n",
        "    tensor = tensor.unsqueeze(0)\n",
        "    inputs2[i] = tensor\n",
        "  inputs2 = inputs2.cuda()\n",
        "\n",
        "  fid = FID().cuda()\n",
        "  fid_val = fid(inputs1, inputs2)\n",
        "\n",
        "  return fid_val\n"
      ],
      "metadata": {
        "id": "vABo0Oy8Xu1K"
      },
      "execution_count": null,
      "outputs": []
    },
    {
      "cell_type": "code",
      "source": [
        "fid_experiment()"
      ],
      "metadata": {
        "colab": {
          "base_uri": "https://localhost:8080/",
          "height": 121,
          "referenced_widgets": [
            "f7417f247e15419d8c8b93e00db0e85f",
            "fb106ffe5edc4cf097b492dd9729493e",
            "35501df9403e4c57852cee216a4bae15",
            "36e5a2a7647f4023a0b99ca4196d7428",
            "c9971bcb30b04b8a81dd186a9f7ca6ae",
            "78fd8bb75c7c4ccfa33b26f776e83921",
            "5b09216e74974531b0e2f8928979a88c",
            "4a2d744dd3444c1390ff9e0eef6019f4",
            "eb8b08c932c74def882846b014335faa",
            "b8005ad4b175468f9315de73a0908a43",
            "5c234d10a4b44f02bc7258db2457eec1"
          ]
        },
        "id": "-I4t1KDeKGzw",
        "outputId": "e699525f-4852-4808-bc33-9aeb805739ef"
      },
      "execution_count": null,
      "outputs": [
        {
          "output_type": "stream",
          "name": "stderr",
          "text": [
            "Downloading: \"https://github.com/pytorch/vision/archive/v0.10.0.zip\" to /root/.cache/torch/hub/v0.10.0.zip\n",
            "Downloading: \"https://download.pytorch.org/models/inception_v3_google-0cc3c7bd.pth\" to /root/.cache/torch/hub/checkpoints/inception_v3_google-0cc3c7bd.pth\n"
          ]
        },
        {
          "output_type": "display_data",
          "data": {
            "text/plain": [
              "  0%|          | 0.00/104M [00:00<?, ?B/s]"
            ],
            "application/vnd.jupyter.widget-view+json": {
              "version_major": 2,
              "version_minor": 0,
              "model_id": "f7417f247e15419d8c8b93e00db0e85f"
            }
          },
          "metadata": {}
        },
        {
          "output_type": "execute_result",
          "data": {
            "text/plain": [
              "44.804162487089286"
            ]
          },
          "metadata": {},
          "execution_count": 5
        }
      ]
    },
    {
      "cell_type": "code",
      "source": [
        "!pip install face_recognition\n",
        "#https://github.com/ageitgey/face_recognition"
      ],
      "metadata": {
        "colab": {
          "base_uri": "https://localhost:8080/"
        },
        "id": "IBCm4OogAxWu",
        "outputId": "5258ec7a-9c77-427a-f751-9315f9585ed8"
      },
      "execution_count": null,
      "outputs": [
        {
          "output_type": "stream",
          "name": "stdout",
          "text": [
            "Looking in indexes: https://pypi.org/simple, https://us-python.pkg.dev/colab-wheels/public/simple/\n",
            "Collecting face_recognition\n",
            "  Downloading face_recognition-1.3.0-py2.py3-none-any.whl (15 kB)\n",
            "Collecting face-recognition-models>=0.3.0\n",
            "  Downloading face_recognition_models-0.3.0.tar.gz (100.1 MB)\n",
            "\u001b[K     |████████████████████████████████| 100.1 MB 27 kB/s \n",
            "\u001b[?25hRequirement already satisfied: numpy in /usr/local/lib/python3.7/dist-packages (from face_recognition) (1.21.6)\n",
            "Requirement already satisfied: Pillow in /usr/local/lib/python3.7/dist-packages (from face_recognition) (7.1.2)\n",
            "Requirement already satisfied: Click>=6.0 in /usr/local/lib/python3.7/dist-packages (from face_recognition) (7.1.2)\n",
            "Requirement already satisfied: dlib>=19.7 in /usr/local/lib/python3.7/dist-packages (from face_recognition) (19.18.0+zzzcolab20220513001918)\n",
            "Building wheels for collected packages: face-recognition-models\n",
            "  Building wheel for face-recognition-models (setup.py) ... \u001b[?25l\u001b[?25hdone\n",
            "  Created wheel for face-recognition-models: filename=face_recognition_models-0.3.0-py2.py3-none-any.whl size=100566186 sha256=cba380b1b21f7a3974ddab1d1c4f5271acd1d72802c6fd7548d9f5dda62b6b7d\n",
            "  Stored in directory: /root/.cache/pip/wheels/d6/81/3c/884bcd5e1c120ff548d57c2ecc9ebf3281c9a6f7c0e7e7947a\n",
            "Successfully built face-recognition-models\n",
            "Installing collected packages: face-recognition-models, face-recognition\n",
            "Successfully installed face-recognition-1.3.0 face-recognition-models-0.3.0\n"
          ]
        }
      ]
    },
    {
      "cell_type": "code",
      "source": [
        "import face_recognition\n",
        "\n",
        "def face_recognition_experiment():\n",
        "  #I assume that known_sample_i corresponds to test_sample_i\n",
        "  known_faces = []\n",
        "  #TODO: how many samples exist? assign to sample_number\n",
        "  sample_number = 70\n",
        "  sample_numbers = list(range(sample_number))\n",
        "  for i in range(sample_number):\n",
        "    #image = face_recognition.load_image_file(\"known_sample_\" + str(i) + \".jpg\")\n",
        "    image = face_recognition.load_image_file(\"exp13/\"+str(i) + \".jpg\")\n",
        "    if len(face_recognition.face_encodings(image)) > 0:\n",
        "      face_encoding = face_recognition.face_encodings(image)[0]\n",
        "      known_faces.append(face_encoding)\n",
        "    else:\n",
        "      sample_numbers.remove(i)\n",
        "\n",
        "  number_of_accurates = 0\n",
        "  for i, file_i in enumerate(sample_numbers):\n",
        "    #unknown_image = face_recognition.load_image_file(\"test_sample_\" + str(i) + \".jpg\")\n",
        "    unknown_image = face_recognition.load_image_file(str(file_i) + \".jpg\")\n",
        "    unknown_face_encoding = face_recognition.face_encodings(unknown_image)[0]\n",
        "    results = face_recognition.compare_faces(known_faces, unknown_face_encoding)\n",
        "    \n",
        "    accurate = True\n",
        "    for j, result in enumerate(results):\n",
        "      accurate = accurate and ((j == i) == result)\n",
        "      accurate = accurate and ((j != i) != result)\n",
        "    #print(accurate)\n",
        "    if accurate:\n",
        "      number_of_accurates += 1 \n",
        "\n",
        "  return number_of_accurates / sample_number\n"
      ],
      "metadata": {
        "id": "0I0yLp0mBQRF"
      },
      "execution_count": null,
      "outputs": []
    },
    {
      "cell_type": "code",
      "source": [
        "face_recognition_experiment()"
      ],
      "metadata": {
        "colab": {
          "base_uri": "https://localhost:8080/"
        },
        "id": "uV--FO_zE1mq",
        "outputId": "25090e2c-27a8-43d3-e61c-2c2fc501fbcf"
      },
      "execution_count": null,
      "outputs": [
        {
          "output_type": "execute_result",
          "data": {
            "text/plain": [
              "0.5714285714285714"
            ]
          },
          "metadata": {},
          "execution_count": 8
        }
      ]
    }
  ]
}